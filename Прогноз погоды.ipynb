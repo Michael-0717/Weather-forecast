{
 "cells": [
  {
   "cell_type": "code",
   "execution_count": 1,
   "id": "3a50b45e",
   "metadata": {},
   "outputs": [
    {
     "name": "stdout",
     "output_type": "stream",
     "text": [
      "День месяца: 3\n",
      "-7.2 +/- 5.96\n"
     ]
    }
   ],
   "source": [
    "import numpy as np # \n",
    "import csv\n",
    "\n",
    "with open('Pogoda_12.2013-12.2022.csv', 'r') as f: \n",
    "    reader = csv.reader(f)\n",
    "    my_day = list(reader)\n",
    "\n",
    "l = int(input('День месяца: ', ))\n",
    "line = l - 1\n",
    "if line < len(my_day):\n",
    "    day = my_day[line]\n",
    "    for line in day: \n",
    "        S = line.strip().split(\";\") \n",
    "        Arhiv = [round(float(s)) for s in S[1:]]\n",
    "\n",
    "        mean = np.mean(Arhiv) # получаем среднее значение \n",
    "        delta = np.std(Arhiv, ddof=1) # вычисляем среднее квадратическое отклонение по ГОСТу \n",
    "        print (str(mean.round(2)) + ' +/- ' + str(delta.round(2)))\n",
    "else:\n",
    "    print('Такой день не существует ')\n"
   ]
  }
 ],
 "metadata": {
  "kernelspec": {
   "display_name": "Python 3 (ipykernel)",
   "language": "python",
   "name": "python3"
  },
  "language_info": {
   "codemirror_mode": {
    "name": "ipython",
    "version": 3
   },
   "file_extension": ".py",
   "mimetype": "text/x-python",
   "name": "python",
   "nbconvert_exporter": "python",
   "pygments_lexer": "ipython3",
   "version": "3.9.13"
  }
 },
 "nbformat": 4,
 "nbformat_minor": 5
}
